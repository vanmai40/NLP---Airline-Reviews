{
 "cells": [
  {
   "cell_type": "markdown",
   "id": "3f38f6fd",
   "metadata": {},
   "source": [
    "# Topic Modeling with Latent Dirichlet Allocation"
   ]
  },
  {
   "cell_type": "markdown",
   "id": "ae15413b",
   "metadata": {},
   "source": [
    "> -  In this Part, we will work mainly with review data, and trying to model what are passenger not happy about their flight. Therefore, we will implemented topic modeling using Latent Dirichlet Allocation for only the negative review segment of an airline."
   ]
  },
  {
   "cell_type": "code",
   "execution_count": 57,
   "id": "4f0431a2",
   "metadata": {
    "ExecuteTime": {
     "end_time": "2022-03-25T21:21:13.570237Z",
     "start_time": "2022-03-25T21:21:13.201064Z"
    }
   },
   "outputs": [],
   "source": [
    "import pandas as pd\n",
    "from textblob import TextBlob \n",
    "import contractions\n",
    "import numpy as np\n",
    "import matplotlib.pyplot as plt\n",
    "\n",
    "\n",
    "import warnings\n",
    "warnings.filterwarnings('ignore')"
   ]
  },
  {
   "cell_type": "code",
   "execution_count": 2,
   "id": "aa368b9c",
   "metadata": {
    "ExecuteTime": {
     "end_time": "2022-03-25T20:07:02.687996Z",
     "start_time": "2022-03-25T20:07:02.677803Z"
    }
   },
   "outputs": [],
   "source": [
    "\n",
    "# Function to return review a a specific airline\n",
    "\n",
    "def load_review_data(Airline= None):\n",
    "    # a pickle file of dataframe has been created in advance for better loading time compared to loading from xlsx file.\n",
    "    reviews_data = pd.read_pickle('Airline_Review_Data/all_reviews')\n",
    "    if Airline == None:\n",
    "        return reviews_data['airline'].unique()\n",
    "    else: \n",
    "        df = reviews_data.loc[reviews_data['airline'] == Airline]\n",
    "        df['customer_review'] = df['customer_review'].str.replace('-', '_',regex=True)\n",
    "        return df"
   ]
  },
  {
   "cell_type": "code",
   "execution_count": 3,
   "id": "86fc363e",
   "metadata": {
    "ExecuteTime": {
     "end_time": "2022-03-25T20:07:06.333672Z",
     "start_time": "2022-03-25T20:07:05.040871Z"
    }
   },
   "outputs": [],
   "source": [
    "df = load_review_data('Lufthansa')\n",
    "\n",
    "\n",
    "def polarity(text: str) -> 'Create a function to get the polarity':\n",
    "    #expanding contraction in text\n",
    "    expand_text = contractions.fix(text)\n",
    "    # remove non-ascii character in text\n",
    "    ascii_text = (\"\".join(c for c in expand_text if ord(c)<128))\n",
    "    return TextBlob(ascii_text).sentiment.polarity\n",
    "\n",
    "df['Polarity'] = df['customer_review'].apply(polarity)\n",
    "#filter out only negative reviews\n",
    "df_neg = df.loc[(df['Polarity'] <=0)]\n",
    "\n",
    "corpus = df_neg['customer_review'].tolist()"
   ]
  },
  {
   "cell_type": "markdown",
   "id": "a2883dc0",
   "metadata": {},
   "source": [
    "# Preprocessing text data"
   ]
  },
  {
   "cell_type": "code",
   "execution_count": 17,
   "id": "fd9eca92",
   "metadata": {
    "ExecuteTime": {
     "end_time": "2022-03-25T20:22:13.581084Z",
     "start_time": "2022-03-25T20:22:13.526047Z"
    }
   },
   "outputs": [],
   "source": [
    "from gensim.utils import simple_preprocess \n",
    "from nltk.corpus import stopwords\n",
    "\n",
    "# tokennizing, lowecassing, pucntualtion removing, \n",
    "#accent mark removing, number removing, stop-words removing\n",
    "#Created unigram corpus\n",
    "stop_words = stopwords.words('english')\n",
    "unigram_copus=[]\n",
    "for text in corpus:\n",
    "    unigram_copus.append([word for word in simple_preprocess(text, min_len =3) if word not in stop_words]) \n",
    "\n",
    "#Collocation detection\n",
    "# Build the bi-gram from unigram corpus (or tokenized corpus) \n",
    "bigram_model = gensim.models.phrases.Phrases(unigram_copus) \n",
    "bigram_corpus = list(bigram_model[unigram_copus])\n",
    "\n",
    "# Build the tri-gram from bigram corpus (or tokenized corpus) \n",
    "trigram_model = gensim.models.phrases.Phrases(bigram_corpus) \n",
    "trigram_corpus = list(bigram_model[bigram_corpus])"
   ]
  },
  {
   "cell_type": "code",
   "execution_count": 26,
   "id": "341e40b9",
   "metadata": {
    "ExecuteTime": {
     "end_time": "2022-03-25T20:34:42.155567Z",
     "start_time": "2022-03-25T20:34:40.585609Z"
    }
   },
   "outputs": [],
   "source": [
    "# Lemmatization\n",
    "import spacy\n",
    "\n",
    "lemmatized_corpus =[]\n",
    "nlp = spacy.load(\"en_core_web_sm\", disable=['parser', 'ner'])\n",
    "for text in trigram_corpus:\n",
    "    doc = nlp(\" \".join(text)) \n",
    "    lemmatized_corpus.append([token.lemma_ for token in doc])"
   ]
  },
  {
   "cell_type": "code",
   "execution_count": 29,
   "id": "dd46171f",
   "metadata": {
    "ExecuteTime": {
     "end_time": "2022-03-25T20:36:16.276449Z",
     "start_time": "2022-03-25T20:36:16.244270Z"
    }
   },
   "outputs": [],
   "source": [
    "from gensim.corpora import Dictionary\n",
    "\n",
    "# create bag-of-word representation\n",
    "dictionary = Dictionary(lemmatized_corpus)\n",
    "dictionary.filter_extremes(no_below=2, no_above = 0.5)\n",
    "bow_corpus = [dictionary.doc2bow(text) for text in lemmatized_corpus]"
   ]
  },
  {
   "cell_type": "code",
   "execution_count": 34,
   "id": "93e9d733",
   "metadata": {
    "ExecuteTime": {
     "end_time": "2022-03-25T20:42:44.921445Z",
     "start_time": "2022-03-25T20:42:44.913382Z"
    },
    "scrolled": true
   },
   "outputs": [
    {
     "name": "stdout",
     "output_type": "stream",
     "text": [
      "Original text: \n",
      "\t I was flying from Canada to Ukraine and my last transfer destination was at Frankfurt. At Lufthansa the customer service is very poor. First of all, I was very disappointed because when I got to my seat I couldn't find any space where I could put my carry on luggage, all space was full with luggage of people that were sitting next to me. Second of all, one of the stewardesses told me halfway to my seat that there was no space for my luggage. She didn't offer her help to help me find space at the front, it was very rude because it's part of her job. She was just watching me running around trying to find space. I am very upset about the customer service that I received and I will never fly with Lufthansa again because of my experience! \n",
      "\n",
      " Collocated tokenized text: \n",
      "\t flying canada ukraine last transfer destination frankfurt lufthansa customer_service poor first disappointed got seat find space could put carry luggage space full luggage people sitting next second one stewardesses told halfway seat space luggage offer help help find space front rude part job watching running around trying find space upset customer_service received never fly lufthansa experience \n",
      "\n",
      "Lemmatized collocated text: \n",
      "\t fly canada ukraine last transfer destination frankfurt lufthansa customer_service poor first disappoint get seat find space could put carry luggage space full luggage people sit next second one stewardess tell halfway seat space luggage offer help help find space front rude part job watch run around try find space upset customer_service receive never fly lufthansa experience \n",
      "\n",
      "Bag-of-word representation: \n",
      "\t [('around', 1), ('canada', 1), ('carry', 1), ('could', 1), ('customer_service', 2), ('destination', 1), ('disappoint', 1), ('experience', 1), ('find', 3), ('first', 1), ('fly', 2), ('frankfurt', 1), ('front', 1), ('full', 1), ('get', 1), ('help', 2), ('job', 1), ('last', 1), ('luggage', 3), ('never', 1), ('next', 1), ('offer', 1), ('one', 1), ('part', 1), ('people', 1), ('poor', 1), ('put', 1), ('receive', 1), ('rude', 1), ('run', 1), ('seat', 2), ('second', 1), ('sit', 1), ('space', 5), ('stewardess', 1), ('tell', 1), ('transfer', 1), ('try', 1), ('upset', 1)]\n"
     ]
    }
   ],
   "source": [
    "print('Original text: \\n\\t',(corpus[0]),'\\n\\n',\n",
    "      'Collocated tokenized text: \\n\\t',' '.join(trigram_corpus[0]),'\\n\\n'\n",
    "      'Lemmatized collocated text: \\n\\t',' '.join(lemmatized_corpus[0]),'\\n\\n'\n",
    "       'Bag-of-word representation: \\n\\t',[(dictionary[wid], f) for (wid, f) in bow_corpus[0]])"
   ]
  },
  {
   "cell_type": "code",
   "execution_count": 35,
   "id": "c7c9e7d5",
   "metadata": {
    "ExecuteTime": {
     "end_time": "2022-03-25T20:43:53.031510Z",
     "start_time": "2022-03-25T20:43:53.014656Z"
    }
   },
   "outputs": [
    {
     "data": {
      "text/plain": [
       "[('seat', 223),\n",
       " ('frankfurt', 179),\n",
       " ('get', 123),\n",
       " ('time', 118),\n",
       " ('hour', 117),\n",
       " ('service', 95),\n",
       " ('food', 86),\n",
       " ('airport', 86),\n",
       " ('take', 77),\n",
       " ('delay', 76),\n",
       " ('fly', 75),\n",
       " ('bad', 75),\n",
       " ('would', 74),\n",
       " ('one', 73),\n",
       " ('tell', 72),\n",
       " ('passenger', 72),\n",
       " ('make', 71),\n",
       " ('plane', 70),\n",
       " ('gate', 69),\n",
       " ('airline', 67)]"
      ]
     },
     "execution_count": 35,
     "metadata": {},
     "output_type": "execute_result"
    }
   ],
   "source": [
    "# top 20 Freoquent token\n",
    "# dictionary.cfs : collection freq: total time appear in whole corpus\n",
    "# dictionary.dfs : document freq: total num of doc contain the term\n",
    "\n",
    "sorted_dict = sorted(dictionary.cfs.items(), key=lambda item: item[1], reverse = True)\n",
    "[(dictionary[tokenid], freq) for  (tokenid, freq) in sorted_dict][:20]"
   ]
  },
  {
   "cell_type": "markdown",
   "id": "87af1d5e",
   "metadata": {},
   "source": [
    "# LDA Topic Modeling"
   ]
  },
  {
   "cell_type": "code",
   "execution_count": 44,
   "id": "f95d9bb3",
   "metadata": {
    "ExecuteTime": {
     "end_time": "2022-03-25T21:07:25.193833Z",
     "start_time": "2022-03-25T21:07:22.069692Z"
    }
   },
   "outputs": [
    {
     "name": "stdout",
     "output_type": "stream",
     "text": [
      "\n",
      "Coherence Score:  0.32446546939199405\n",
      "\n",
      "Log-Likelihood :  -82192.86478346586\n",
      "\n",
      "Per-word Perplexity :  1029.3595619979424\n"
     ]
    }
   ],
   "source": [
    "from gensim.models import LdaMulticore, CoherenceModel\n",
    "#training the lda model\n",
    "lda_model = LdaMulticore(corpus = bow_corpus,\n",
    "                        id2word = dictionary,\n",
    "                        num_topics = 10,\n",
    "                        chunksize = 50,\n",
    "                        per_word_topics= True,\n",
    "                        passes = 10,\n",
    "                        workers = 1,\n",
    "                        eval_every = 1)"
   ]
  },
  {
   "cell_type": "code",
   "execution_count": 51,
   "id": "725098f2",
   "metadata": {
    "ExecuteTime": {
     "end_time": "2022-03-25T21:13:39.024010Z",
     "start_time": "2022-03-25T21:13:36.992000Z"
    },
    "scrolled": true
   },
   "outputs": [
    {
     "name": "stdout",
     "output_type": "stream",
     "text": [
      "\n",
      "Coherence Score:  0.32446546939199405\n",
      "\n",
      "Log-Likelihood :  -82192.8644040227\n",
      "\n",
      "Per-word Log-Likelihood :  -6.936686731876829\n",
      "\n",
      "Per-word Perplexity :  1029.3594707608593\n"
     ]
    }
   ],
   "source": [
    "# Evaluation metrics of the model\n",
    "\n",
    "from gensim.models import CoherenceModel\n",
    "coherence_model= CoherenceModel(model=lda_model, texts=lemmatized_corpus, dictionary=dictionary, coherence='c_v')\n",
    "\n",
    "\n",
    "print('\\nCoherence Score: ', coherence_model.get_coherence()),\\\n",
    "print('\\nLog-Likelihood : ', lda_model.bound(bow_corpus)),\\\n",
    "print('\\nPer-word Log-Likelihood : ', lda_model.log_perplexity(bow_corpus)),\\\n",
    "print('\\nPer-word Perplexity : ', np.exp(-1*lda_model.log_perplexity(bow_corpus)));"
   ]
  },
  {
   "cell_type": "code",
   "execution_count": 45,
   "id": "410f7d72",
   "metadata": {
    "ExecuteTime": {
     "end_time": "2022-03-25T21:09:51.237048Z",
     "start_time": "2022-03-25T21:09:51.218863Z"
    }
   },
   "outputs": [],
   "source": [
    "#functions to present the topic model\n",
    "\n",
    "def rank_by_weight(lda_model, ntop_topics = 10, ntop = 10):\n",
    "    topics_model = lda_model.show_topics(formatted=False, num_words = ntop)\n",
    "    topics_words= {}\n",
    "    topics_weight = {}\n",
    "\n",
    "    for (index, topic) in topics_model:\n",
    "        topics_words[f'Topic {index+1}'] = [word for (word,weight) in topic]\n",
    "        topics_weight[f'Topic {index+1}'] = sum([weight for (word,weight) in topic])\n",
    "        \n",
    "    ranking = {k: v for k, v in sorted(topics_weight.items(), key=lambda item: item[1],reverse=True)}\n",
    "    n_top_topics = ntop_topics\n",
    "    top_topics_dict ={}\n",
    "    for i in list(ranking.keys())[:n_top_topics]:\n",
    "        top_topics_dict[f'{i} ({topics_weight[i]:.3f})'] = topics_words[i]\n",
    "    return pd.DataFrame(top_topics_dict)\n",
    "\n",
    "def rank_by_coherence(lda_model, model_corpus, final_reviews,n_top, rank_by = 'c_v'):\n",
    "    #coherence = 'c_v, u_mass, c_npmi, c_uci'\n",
    "    top_topics_w_coherence = lda_model.top_topics(corpus = model_corpus, texts = final_reviews, topn=n_top , coherence = rank_by)\n",
    "    \n",
    "    top_topics_w_coherence_dict = {}\n",
    "    for (index, topic) in enumerate(top_topics_w_coherence):\n",
    "        top_topics_w_coherence_dict[f\"Topic {index+1} ({topic[1]:.2f})\"] = [word for (score, word) in topic[0]]\n",
    "    \n",
    "    return pd.DataFrame(top_topics_w_coherence_dict)\n",
    "\n",
    "def topics_rank(lda_model, model_corpus = None, final_reviews = None, rank_by = 'weight', ntop=10):\n",
    "    #rank_by = 'c_v, u_mass, c_npmi, c_uci, weight'\n",
    "    if rank_by == 'weight':\n",
    "        return rank_by_weight(lda_model, ntop=ntop)\n",
    "    else: return rank_by_coherence(lda_model, model_corpus, final_reviews, rank_by = rank_by, n_top=ntop)"
   ]
  },
  {
   "cell_type": "code",
   "execution_count": 46,
   "id": "3ea7ce08",
   "metadata": {
    "ExecuteTime": {
     "end_time": "2022-03-25T21:10:15.307911Z",
     "start_time": "2022-03-25T21:10:15.293919Z"
    }
   },
   "outputs": [
    {
     "data": {
      "text/html": [
       "<div>\n",
       "<style scoped>\n",
       "    .dataframe tbody tr th:only-of-type {\n",
       "        vertical-align: middle;\n",
       "    }\n",
       "\n",
       "    .dataframe tbody tr th {\n",
       "        vertical-align: top;\n",
       "    }\n",
       "\n",
       "    .dataframe thead th {\n",
       "        text-align: right;\n",
       "    }\n",
       "</style>\n",
       "<table border=\"1\" class=\"dataframe\">\n",
       "  <thead>\n",
       "    <tr style=\"text-align: right;\">\n",
       "      <th></th>\n",
       "      <th>Topic 2 (0.191)</th>\n",
       "      <th>Topic 5 (0.188)</th>\n",
       "      <th>Topic 3 (0.170)</th>\n",
       "      <th>Topic 1 (0.167)</th>\n",
       "      <th>Topic 6 (0.158)</th>\n",
       "      <th>Topic 7 (0.154)</th>\n",
       "      <th>Topic 4 (0.146)</th>\n",
       "      <th>Topic 9 (0.134)</th>\n",
       "      <th>Topic 8 (0.124)</th>\n",
       "      <th>Topic 10 (0.124)</th>\n",
       "    </tr>\n",
       "  </thead>\n",
       "  <tbody>\n",
       "    <tr>\n",
       "      <th>0</th>\n",
       "      <td>beverage</td>\n",
       "      <td>seat</td>\n",
       "      <td>seat</td>\n",
       "      <td>seat</td>\n",
       "      <td>time</td>\n",
       "      <td>happy</td>\n",
       "      <td>entertainment_system</td>\n",
       "      <td>business_class</td>\n",
       "      <td>expectation</td>\n",
       "      <td>frankfurt</td>\n",
       "    </tr>\n",
       "    <tr>\n",
       "      <th>1</th>\n",
       "      <td>serve</td>\n",
       "      <td>food</td>\n",
       "      <td>service</td>\n",
       "      <td>make</td>\n",
       "      <td>one</td>\n",
       "      <td>charter</td>\n",
       "      <td>munich</td>\n",
       "      <td>seat</td>\n",
       "      <td>toilet</td>\n",
       "      <td>hour</td>\n",
       "    </tr>\n",
       "    <tr>\n",
       "      <th>2</th>\n",
       "      <td>movie</td>\n",
       "      <td>business_class</td>\n",
       "      <td>space</td>\n",
       "      <td>frankfurt</td>\n",
       "      <td>level</td>\n",
       "      <td>understand</td>\n",
       "      <td>system</td>\n",
       "      <td>bag</td>\n",
       "      <td>lax</td>\n",
       "      <td>get</td>\n",
       "    </tr>\n",
       "    <tr>\n",
       "      <th>3</th>\n",
       "      <td>one</td>\n",
       "      <td>good</td>\n",
       "      <td>munich</td>\n",
       "      <td>get</td>\n",
       "      <td>regard</td>\n",
       "      <td>depart</td>\n",
       "      <td>member</td>\n",
       "      <td>agent</td>\n",
       "      <td>mine</td>\n",
       "      <td>airport</td>\n",
       "    </tr>\n",
       "    <tr>\n",
       "      <th>4</th>\n",
       "      <td>outbound</td>\n",
       "      <td>service</td>\n",
       "      <td>use</td>\n",
       "      <td>book</td>\n",
       "      <td>luggage</td>\n",
       "      <td>navigate</td>\n",
       "      <td>inflight</td>\n",
       "      <td>frankfurt</td>\n",
       "      <td>pass</td>\n",
       "      <td>tell</td>\n",
       "    </tr>\n",
       "    <tr>\n",
       "      <th>5</th>\n",
       "      <td>crew</td>\n",
       "      <td>back</td>\n",
       "      <td>outdate</td>\n",
       "      <td>experience</td>\n",
       "      <td>baggage</td>\n",
       "      <td>reset</td>\n",
       "      <td>several</td>\n",
       "      <td>boarding</td>\n",
       "      <td>refund</td>\n",
       "      <td>arrive</td>\n",
       "    </tr>\n",
       "    <tr>\n",
       "      <th>6</th>\n",
       "      <td>munich</td>\n",
       "      <td>fly</td>\n",
       "      <td>flight_attendant</td>\n",
       "      <td>would</td>\n",
       "      <td>airplane</td>\n",
       "      <td>multiple</td>\n",
       "      <td>crew</td>\n",
       "      <td>fly</td>\n",
       "      <td>complain</td>\n",
       "      <td>time</td>\n",
       "    </tr>\n",
       "    <tr>\n",
       "      <th>7</th>\n",
       "      <td>time</td>\n",
       "      <td>poor</td>\n",
       "      <td>vancouver</td>\n",
       "      <td>time</td>\n",
       "      <td>service</td>\n",
       "      <td>los_angele</td>\n",
       "      <td>online</td>\n",
       "      <td>luggage</td>\n",
       "      <td>next</td>\n",
       "      <td>delay</td>\n",
       "    </tr>\n",
       "    <tr>\n",
       "      <th>8</th>\n",
       "      <td>inbound</td>\n",
       "      <td>bad</td>\n",
       "      <td>headphone</td>\n",
       "      <td>never</td>\n",
       "      <td>delay</td>\n",
       "      <td>mystery</td>\n",
       "      <td>premium_economy</td>\n",
       "      <td>united</td>\n",
       "      <td>departure</td>\n",
       "      <td>give</td>\n",
       "    </tr>\n",
       "    <tr>\n",
       "      <th>9</th>\n",
       "      <td>economy</td>\n",
       "      <td>airline</td>\n",
       "      <td>serve</td>\n",
       "      <td>passenger</td>\n",
       "      <td>smile</td>\n",
       "      <td>october</td>\n",
       "      <td>able</td>\n",
       "      <td>board</td>\n",
       "      <td>wear</td>\n",
       "      <td>plane</td>\n",
       "    </tr>\n",
       "  </tbody>\n",
       "</table>\n",
       "</div>"
      ],
      "text/plain": [
       "  Topic 2 (0.191) Topic 5 (0.188)   Topic 3 (0.170) Topic 1 (0.167)  \\\n",
       "0        beverage            seat              seat            seat   \n",
       "1           serve            food           service            make   \n",
       "2           movie  business_class             space       frankfurt   \n",
       "3             one            good            munich             get   \n",
       "4        outbound         service               use            book   \n",
       "5            crew            back           outdate      experience   \n",
       "6          munich             fly  flight_attendant           would   \n",
       "7            time            poor         vancouver            time   \n",
       "8         inbound             bad         headphone           never   \n",
       "9         economy         airline             serve       passenger   \n",
       "\n",
       "  Topic 6 (0.158) Topic 7 (0.154)       Topic 4 (0.146) Topic 9 (0.134)  \\\n",
       "0            time           happy  entertainment_system  business_class   \n",
       "1             one         charter                munich            seat   \n",
       "2           level      understand                system             bag   \n",
       "3          regard          depart                member           agent   \n",
       "4         luggage        navigate              inflight       frankfurt   \n",
       "5         baggage           reset               several        boarding   \n",
       "6        airplane        multiple                  crew             fly   \n",
       "7         service      los_angele                online         luggage   \n",
       "8           delay         mystery       premium_economy          united   \n",
       "9           smile         october                  able           board   \n",
       "\n",
       "  Topic 8 (0.124) Topic 10 (0.124)  \n",
       "0     expectation        frankfurt  \n",
       "1          toilet             hour  \n",
       "2             lax              get  \n",
       "3            mine          airport  \n",
       "4            pass             tell  \n",
       "5          refund           arrive  \n",
       "6        complain             time  \n",
       "7            next            delay  \n",
       "8       departure             give  \n",
       "9            wear            plane  "
      ]
     },
     "execution_count": 46,
     "metadata": {},
     "output_type": "execute_result"
    }
   ],
   "source": [
    "topics_rank(lda_model, bow_corpus, lemmatized_corpus, rank_by = 'weight')"
   ]
  },
  {
   "cell_type": "code",
   "execution_count": 47,
   "id": "4f06e335",
   "metadata": {
    "ExecuteTime": {
     "end_time": "2022-03-25T21:10:53.549519Z",
     "start_time": "2022-03-25T21:10:51.969747Z"
    },
    "scrolled": true
   },
   "outputs": [
    {
     "data": {
      "text/html": [
       "<div>\n",
       "<style scoped>\n",
       "    .dataframe tbody tr th:only-of-type {\n",
       "        vertical-align: middle;\n",
       "    }\n",
       "\n",
       "    .dataframe tbody tr th {\n",
       "        vertical-align: top;\n",
       "    }\n",
       "\n",
       "    .dataframe thead th {\n",
       "        text-align: right;\n",
       "    }\n",
       "</style>\n",
       "<table border=\"1\" class=\"dataframe\">\n",
       "  <thead>\n",
       "    <tr style=\"text-align: right;\">\n",
       "      <th></th>\n",
       "      <th>Topic 1 (0.61)</th>\n",
       "      <th>Topic 2 (0.52)</th>\n",
       "      <th>Topic 3 (0.35)</th>\n",
       "      <th>Topic 4 (0.34)</th>\n",
       "      <th>Topic 5 (0.34)</th>\n",
       "      <th>Topic 6 (0.33)</th>\n",
       "      <th>Topic 7 (0.32)</th>\n",
       "      <th>Topic 8 (0.29)</th>\n",
       "      <th>Topic 9 (0.28)</th>\n",
       "      <th>Topic 10 (0.28)</th>\n",
       "    </tr>\n",
       "  </thead>\n",
       "  <tbody>\n",
       "    <tr>\n",
       "      <th>0</th>\n",
       "      <td>frankfurt</td>\n",
       "      <td>beverage</td>\n",
       "      <td>time</td>\n",
       "      <td>seat</td>\n",
       "      <td>business_class</td>\n",
       "      <td>entertainment_system</td>\n",
       "      <td>seat</td>\n",
       "      <td>seat</td>\n",
       "      <td>expectation</td>\n",
       "      <td>happy</td>\n",
       "    </tr>\n",
       "    <tr>\n",
       "      <th>1</th>\n",
       "      <td>hour</td>\n",
       "      <td>serve</td>\n",
       "      <td>one</td>\n",
       "      <td>food</td>\n",
       "      <td>seat</td>\n",
       "      <td>munich</td>\n",
       "      <td>make</td>\n",
       "      <td>service</td>\n",
       "      <td>toilet</td>\n",
       "      <td>charter</td>\n",
       "    </tr>\n",
       "    <tr>\n",
       "      <th>2</th>\n",
       "      <td>get</td>\n",
       "      <td>movie</td>\n",
       "      <td>level</td>\n",
       "      <td>business_class</td>\n",
       "      <td>bag</td>\n",
       "      <td>system</td>\n",
       "      <td>frankfurt</td>\n",
       "      <td>space</td>\n",
       "      <td>lax</td>\n",
       "      <td>understand</td>\n",
       "    </tr>\n",
       "    <tr>\n",
       "      <th>3</th>\n",
       "      <td>airport</td>\n",
       "      <td>one</td>\n",
       "      <td>regard</td>\n",
       "      <td>good</td>\n",
       "      <td>agent</td>\n",
       "      <td>member</td>\n",
       "      <td>get</td>\n",
       "      <td>munich</td>\n",
       "      <td>mine</td>\n",
       "      <td>depart</td>\n",
       "    </tr>\n",
       "    <tr>\n",
       "      <th>4</th>\n",
       "      <td>tell</td>\n",
       "      <td>outbound</td>\n",
       "      <td>luggage</td>\n",
       "      <td>service</td>\n",
       "      <td>frankfurt</td>\n",
       "      <td>inflight</td>\n",
       "      <td>book</td>\n",
       "      <td>use</td>\n",
       "      <td>pass</td>\n",
       "      <td>navigate</td>\n",
       "    </tr>\n",
       "    <tr>\n",
       "      <th>5</th>\n",
       "      <td>arrive</td>\n",
       "      <td>crew</td>\n",
       "      <td>baggage</td>\n",
       "      <td>back</td>\n",
       "      <td>boarding</td>\n",
       "      <td>several</td>\n",
       "      <td>experience</td>\n",
       "      <td>outdate</td>\n",
       "      <td>refund</td>\n",
       "      <td>reset</td>\n",
       "    </tr>\n",
       "    <tr>\n",
       "      <th>6</th>\n",
       "      <td>time</td>\n",
       "      <td>munich</td>\n",
       "      <td>airplane</td>\n",
       "      <td>fly</td>\n",
       "      <td>fly</td>\n",
       "      <td>crew</td>\n",
       "      <td>would</td>\n",
       "      <td>flight_attendant</td>\n",
       "      <td>complain</td>\n",
       "      <td>multiple</td>\n",
       "    </tr>\n",
       "    <tr>\n",
       "      <th>7</th>\n",
       "      <td>delay</td>\n",
       "      <td>time</td>\n",
       "      <td>service</td>\n",
       "      <td>poor</td>\n",
       "      <td>luggage</td>\n",
       "      <td>online</td>\n",
       "      <td>time</td>\n",
       "      <td>vancouver</td>\n",
       "      <td>next</td>\n",
       "      <td>los_angele</td>\n",
       "    </tr>\n",
       "    <tr>\n",
       "      <th>8</th>\n",
       "      <td>give</td>\n",
       "      <td>inbound</td>\n",
       "      <td>delay</td>\n",
       "      <td>bad</td>\n",
       "      <td>united</td>\n",
       "      <td>premium_economy</td>\n",
       "      <td>never</td>\n",
       "      <td>headphone</td>\n",
       "      <td>departure</td>\n",
       "      <td>mystery</td>\n",
       "    </tr>\n",
       "    <tr>\n",
       "      <th>9</th>\n",
       "      <td>plane</td>\n",
       "      <td>economy</td>\n",
       "      <td>smile</td>\n",
       "      <td>airline</td>\n",
       "      <td>board</td>\n",
       "      <td>able</td>\n",
       "      <td>passenger</td>\n",
       "      <td>serve</td>\n",
       "      <td>wear</td>\n",
       "      <td>october</td>\n",
       "    </tr>\n",
       "  </tbody>\n",
       "</table>\n",
       "</div>"
      ],
      "text/plain": [
       "  Topic 1 (0.61) Topic 2 (0.52) Topic 3 (0.35)  Topic 4 (0.34)  \\\n",
       "0      frankfurt       beverage           time            seat   \n",
       "1           hour          serve            one            food   \n",
       "2            get          movie          level  business_class   \n",
       "3        airport            one         regard            good   \n",
       "4           tell       outbound        luggage         service   \n",
       "5         arrive           crew        baggage            back   \n",
       "6           time         munich       airplane             fly   \n",
       "7          delay           time        service            poor   \n",
       "8           give        inbound          delay             bad   \n",
       "9          plane        economy          smile         airline   \n",
       "\n",
       "   Topic 5 (0.34)        Topic 6 (0.33) Topic 7 (0.32)    Topic 8 (0.29)  \\\n",
       "0  business_class  entertainment_system           seat              seat   \n",
       "1            seat                munich           make           service   \n",
       "2             bag                system      frankfurt             space   \n",
       "3           agent                member            get            munich   \n",
       "4       frankfurt              inflight           book               use   \n",
       "5        boarding               several     experience           outdate   \n",
       "6             fly                  crew          would  flight_attendant   \n",
       "7         luggage                online           time         vancouver   \n",
       "8          united       premium_economy          never         headphone   \n",
       "9           board                  able      passenger             serve   \n",
       "\n",
       "  Topic 9 (0.28) Topic 10 (0.28)  \n",
       "0    expectation           happy  \n",
       "1         toilet         charter  \n",
       "2            lax      understand  \n",
       "3           mine          depart  \n",
       "4           pass        navigate  \n",
       "5         refund           reset  \n",
       "6       complain        multiple  \n",
       "7           next      los_angele  \n",
       "8      departure         mystery  \n",
       "9           wear         october  "
      ]
     },
     "execution_count": 47,
     "metadata": {},
     "output_type": "execute_result"
    }
   ],
   "source": [
    "topics_rank(lda_model, bow_corpus, lemmatized_corpus, rank_by = 'c_v')"
   ]
  },
  {
   "cell_type": "markdown",
   "id": "dbb62775",
   "metadata": {},
   "source": [
    "# LDA model Optimization"
   ]
  },
  {
   "cell_type": "code",
   "execution_count": 53,
   "id": "524afa85",
   "metadata": {
    "ExecuteTime": {
     "end_time": "2022-03-25T21:18:41.091849Z",
     "start_time": "2022-03-25T21:18:41.086307Z"
    }
   },
   "outputs": [],
   "source": [
    "def best_model(lemmatized_corpus, bow_corpus, dictionary, n_topics_range = [2, 4, 8, 16, 30 ,60]):\n",
    "    \"\"\"\n",
    "    Compute c_v coherence for various number of topics\n",
    "\n",
    "    Parameters:\n",
    "    ----------\n",
    "    dictionary : id2word dict\n",
    "    bow_corpus : bag-of-word corpus\n",
    "    limit : Max num of topics\n",
    "\n",
    "    Returns:\n",
    "    -------\n",
    "    best_model : best LDA model\n",
    "    \n",
    "    \"\"\"\n",
    "    \n",
    "    coherence = []\n",
    "    perplexity = []\n",
    "    log_likelihood = []\n",
    "    model_list = []\n",
    "    for n_topics in n_topics_range:\n",
    "        model = LdaMulticore(corpus = bow_corpus,\n",
    "                        id2word = dictionary,\n",
    "                        chunksize = 50,\n",
    "                        num_topics = n_topics,\n",
    "                        per_word_topics= True,\n",
    "                        passes = 10,\n",
    "                        workers = 1)\n",
    "        model_list.append(model)\n",
    "        coherencemodel = CoherenceModel(model=model, texts=lemmatized_corpus, dictionary=dictionary, coherence='c_v')\n",
    "        coherence.append(coherencemodel.get_coherence())\n",
    "        perplexity.append(np.exp(-1*model.log_perplexity(bow_corpus)))\n",
    "        log_likelihood.append(model.bound(bow_corpus))\n",
    "        \n",
    "        print(f'{100*(n_topics_range.index(n_topics)+1)/len(n_topics_range):.1f} %')\n",
    "        \n",
    "    best_model = model_list[coherence.index(max(coherence))]\n",
    "    \n",
    "    plt.plot(n_topics_range, coherence)\n",
    "    plt.xlabel(\"Num Topics\")\n",
    "    plt.ylabel(\"Coherence score\")\n",
    "    plt.show()\n",
    "    \n",
    "    plt.plot(n_topics_range, perplexity)\n",
    "    plt.xlabel(\"Num Topics\")\n",
    "    plt.ylabel(\"Model Preplexity\")\n",
    "    plt.show()\n",
    "    \n",
    "    plt.plot(n_topics_range, log_likelihood)\n",
    "    plt.xlabel(\"Num Topics\")\n",
    "    plt.ylabel(\"Model Log-Likelihood\")\n",
    "    plt.show()\n",
    "    \n",
    "    \n",
    "    return best_model, max(coherence)"
   ]
  },
  {
   "cell_type": "code",
   "execution_count": 58,
   "id": "5b4303a4",
   "metadata": {
    "ExecuteTime": {
     "end_time": "2022-03-25T21:22:00.724045Z",
     "start_time": "2022-03-25T21:21:29.259786Z"
    }
   },
   "outputs": [
    {
     "name": "stdout",
     "output_type": "stream",
     "text": [
      "16.7 %\n",
      "33.3 %\n",
      "50.0 %\n",
      "66.7 %\n",
      "83.3 %\n",
      "100.0 %\n"
     ]
    },
    {
     "data": {
      "image/png": "[encoded data removed]",
      "text/plain": [
       "<Figure size 432x288 with 1 Axes>"
      ]
     },
     "metadata": {
      "needs_background": "light"
     },
     "output_type": "display_data"
    },
    {
     "data": {
      "image/png": "[encoded data removed]",
      "text/plain": [
       "<Figure size 432x288 with 1 Axes>"
      ]
     },
     "metadata": {
      "needs_background": "light"
     },
     "output_type": "display_data"
    },
    {
     "data": {
      "image/png": "[encoded data removed]",
      "text/plain": [
       "<Figure size 432x288 with 1 Axes>"
      ]
     },
     "metadata": {
      "needs_background": "light"
     },
     "output_type": "display_data"
    }
   ],
   "source": [
    "optimized_model, best_coherence = best_model(lemmatized_corpus, \n",
    "                                             bow_corpus, dictionary, \n",
    "                                             n_topics_range = [2, 5, 10, 20, 50, 100])"
   ]
  },
  {
   "cell_type": "code",
   "execution_count": 59,
   "id": "930c85f7",
   "metadata": {
    "ExecuteTime": {
     "end_time": "2022-03-25T21:22:41.888300Z",
     "start_time": "2022-03-25T21:22:41.873268Z"
    }
   },
   "outputs": [
    {
     "data": {
      "text/plain": [
       "0.3749913941681766"
      ]
     },
     "execution_count": 59,
     "metadata": {},
     "output_type": "execute_result"
    }
   ],
   "source": [
    "best_coherence"
   ]
  }
 ],
 "metadata": {
  "kernelspec": {
   "display_name": "Python 3 (ipykernel)",
   "language": "python",
   "name": "python3"
  },
  "language_info": {
   "codemirror_mode": {
    "name": "ipython",
    "version": 3
   },
   "file_extension": ".py",
   "mimetype": "text/x-python",
   "name": "python",
   "nbconvert_exporter": "python",
   "pygments_lexer": "ipython3",
   "version": "3.8.10"
  }
 },
 "nbformat": 4,
 "nbformat_minor": 5
}
