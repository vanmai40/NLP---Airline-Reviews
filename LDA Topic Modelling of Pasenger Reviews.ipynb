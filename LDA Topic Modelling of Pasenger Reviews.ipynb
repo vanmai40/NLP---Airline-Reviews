{
 "cells": [
  {
   "cell_type": "markdown",
   "id": "3f38f6fd",
   "metadata": {},
   "source": [
    "# Topic Modeling with Latent Dirichlet Allocation"
   ]
  },
  {
   "cell_type": "markdown",
   "id": "ae15413b",
   "metadata": {},
   "source": [
    "> -  In this Part, we will work mainly with review data, and trying to model what are passenger not happy about their flight. Therefore, we will implemented topic modeling using Latent Dirichlet Allocation for only the negative review segment of an airline."
   ]
  },
  {
   "cell_type": "code",
   "execution_count": 60,
   "id": "4f0431a2",
   "metadata": {
    "ExecuteTime": {
     "end_time": "2022-03-25T21:24:37.710567Z",
     "start_time": "2022-03-25T21:24:37.697533Z"
    }
   },
   "outputs": [],
   "source": [
    "import pandas as pd\n",
    "from textblob import TextBlob \n",
    "import contractions\n",
    "import numpy as np\n",
    "import matplotlib.pyplot as plt\n",
    "\n",
    "\n",
    "import warnings\n",
    "warnings.filterwarnings('ignore')"
   ]
  },
  {
   "cell_type": "code",
   "execution_count": 61,
   "id": "aa368b9c",
   "metadata": {
    "ExecuteTime": {
     "end_time": "2022-03-25T21:24:37.725535Z",
     "start_time": "2022-03-25T21:24:37.711508Z"
    }
   },
   "outputs": [],
   "source": [
    "\n",
    "# Function to return review a a specific airline\n",
    "\n",
    "def load_review_data(Airline= None):\n",
    "    # a pickle file of dataframe has been created in advance for better loading time compared to loading from xlsx file.\n",
    "    reviews_data = pd.read_pickle('Airline_Review_Data/all_reviews')\n",
    "    if Airline == None:\n",
    "        return reviews_data['airline'].unique()\n",
    "    else: \n",
    "        df = reviews_data.loc[reviews_data['airline'] == Airline]\n",
    "        df['customer_review'] = df['customer_review'].str.replace('-', '_',regex=True)\n",
    "        return df"
   ]
  },
  {
   "cell_type": "code",
   "execution_count": 62,
   "id": "86fc363e",
   "metadata": {
    "ExecuteTime": {
     "end_time": "2022-03-25T21:24:38.701288Z",
     "start_time": "2022-03-25T21:24:37.726548Z"
    }
   },
   "outputs": [],
   "source": [
    "df = load_review_data('Lufthansa')\n",
    "\n",
    "\n",
    "def polarity(text: str) -> 'Create a function to get the polarity':\n",
    "    #expanding contraction in text\n",
    "    expand_text = contractions.fix(text)\n",
    "    # remove non-ascii character in text\n",
    "    ascii_text = (\"\".join(c for c in expand_text if ord(c)<128))\n",
    "    return TextBlob(ascii_text).sentiment.polarity\n",
    "\n",
    "df['Polarity'] = df['customer_review'].apply(polarity)\n",
    "#filter out only negative reviews\n",
    "df_neg = df.loc[(df['Polarity'] <=0)]\n",
    "\n",
    "corpus = df_neg['customer_review'].tolist()"
   ]
  },
  {
   "cell_type": "markdown",
   "id": "99e4fb34",
   "metadata": {},
   "source": [
    "# Preprocessing text data"
   ]
  },
  {
   "cell_type": "code",
   "execution_count": 63,
   "id": "216d2a59",
   "metadata": {
    "ExecuteTime": {
     "end_time": "2022-03-25T21:24:38.811385Z",
     "start_time": "2022-03-25T21:24:38.703055Z"
    }
   },
   "outputs": [],
   "source": [
    "from gensim.utils import simple_preprocess \n",
    "from nltk.corpus import stopwords\n",
    "\n",
    "# tokennizing, lowecassing, pucntualtion removing, \n",
    "#accent mark removing, number removing, stop-words removing\n",
    "#Created unigram corpus\n",
    "stop_words = stopwords.words('english')\n",
    "unigram_copus=[]\n",
    "for text in corpus:\n",
    "    unigram_copus.append([word for word in simple_preprocess(text, min_len =3) if word not in stop_words]) \n",
    "\n",
    "#Collocation detection\n",
    "# Build the bi-gram from unigram corpus (or tokenized corpus) \n",
    "bigram_model = gensim.models.phrases.Phrases(unigram_copus) \n",
    "bigram_corpus = list(bigram_model[unigram_copus])\n",
    "\n",
    "# Build the tri-gram from bigram corpus (or tokenized corpus) \n",
    "trigram_model = gensim.models.phrases.Phrases(bigram_corpus) \n",
    "trigram_corpus = list(bigram_model[bigram_corpus])"
   ]
  },
  {
   "cell_type": "code",
   "execution_count": 64,
   "id": "adb0ef82",
   "metadata": {
    "ExecuteTime": {
     "end_time": "2022-03-25T21:24:40.395351Z",
     "start_time": "2022-03-25T21:24:38.812340Z"
    }
   },
   "outputs": [],
   "source": [
    "# Lemmatization\n",
    "import spacy\n",
    "\n",
    "lemmatized_corpus =[]\n",
    "nlp = spacy.load(\"en_core_web_sm\", disable=['parser', 'ner'])\n",
    "for text in trigram_corpus:\n",
    "    doc = nlp(\" \".join(text)) \n",
    "    lemmatized_corpus.append([token.lemma_ for token in doc])"
   ]
  },
  {
   "cell_type": "code",
   "execution_count": 65,
   "id": "8c0d4049",
   "metadata": {
    "ExecuteTime": {
     "end_time": "2022-03-25T21:24:40.426697Z",
     "start_time": "2022-03-25T21:24:40.396228Z"
    }
   },
   "outputs": [],
   "source": [
    "from gensim.corpora import Dictionary\n",
    "\n",
    "# create bag-of-word representation\n",
    "dictionary = Dictionary(lemmatized_corpus)\n",
    "dictionary.filter_extremes(no_below=2, no_above = 0.5)\n",
    "bow_corpus = [dictionary.doc2bow(text) for text in lemmatized_corpus]"
   ]
  },
  {
   "cell_type": "code",
   "execution_count": 66,
   "id": "0f7c0b5c",
   "metadata": {
    "ExecuteTime": {
     "end_time": "2022-03-25T21:24:40.442365Z",
     "start_time": "2022-03-25T21:24:40.427792Z"
    },
    "scrolled": true
   },
   "outputs": [
    {
     "name": "stdout",
     "output_type": "stream",
     "text": [
      "Original text: \n",
      "\t I was flying from Canada to Ukraine and my last transfer destination was at Frankfurt. At Lufthansa the customer service is very poor. First of all, I was very disappointed because when I got to my seat I couldn't find any space where I could put my carry on luggage, all space was full with luggage of people that were sitting next to me. Second of all, one of the stewardesses told me halfway to my seat that there was no space for my luggage. She didn't offer her help to help me find space at the front, it was very rude because it's part of her job. She was just watching me running around trying to find space. I am very upset about the customer service that I received and I will never fly with Lufthansa again because of my experience! \n",
      "\n",
      " Collocated tokenized text: \n",
      "\t flying canada ukraine last transfer destination frankfurt lufthansa customer_service poor first disappointed got seat find space could put carry luggage space full luggage people sitting next second one stewardesses told halfway seat space luggage offer help help find space front rude part job watching running around trying find space upset customer_service received never fly lufthansa experience \n",
      "\n",
      "Lemmatized collocated text: \n",
      "\t fly canada ukraine last transfer destination frankfurt lufthansa customer_service poor first disappoint get seat find space could put carry luggage space full luggage people sit next second one stewardess tell halfway seat space luggage offer help help find space front rude part job watch run around try find space upset customer_service receive never fly lufthansa experience \n",
      "\n",
      "Bag-of-word representation: \n",
      "\t [('around', 1), ('canada', 1), ('carry', 1), ('could', 1), ('customer_service', 2), ('destination', 1), ('disappoint', 1), ('experience', 1), ('find', 3), ('first', 1), ('fly', 2), ('frankfurt', 1), ('front', 1), ('full', 1), ('get', 1), ('help', 2), ('job', 1), ('last', 1), ('luggage', 3), ('never', 1), ('next', 1), ('offer', 1), ('one', 1), ('part', 1), ('people', 1), ('poor', 1), ('put', 1), ('receive', 1), ('rude', 1), ('run', 1), ('seat', 2), ('second', 1), ('sit', 1), ('space', 5), ('stewardess', 1), ('tell', 1), ('transfer', 1), ('try', 1), ('upset', 1)]\n"
     ]
    }
   ],
   "source": [
    "print('Original text: \\n\\t',(corpus[0]),'\\n\\n',\n",
    "      'Collocated tokenized text: \\n\\t',' '.join(trigram_corpus[0]),'\\n\\n'\n",
    "      'Lemmatized collocated text: \\n\\t',' '.join(lemmatized_corpus[0]),'\\n\\n'\n",
    "       'Bag-of-word representation: \\n\\t',[(dictionary[wid], f) for (wid, f) in bow_corpus[0]])"
   ]
  },
  {
   "cell_type": "code",
   "execution_count": 67,
   "id": "5c8fe5d7",
   "metadata": {
    "ExecuteTime": {
     "end_time": "2022-03-25T21:24:40.458295Z",
     "start_time": "2022-03-25T21:24:40.443334Z"
    }
   },
   "outputs": [
    {
     "data": {
      "text/plain": [
       "[('seat', 223),\n",
       " ('frankfurt', 179),\n",
       " ('get', 123),\n",
       " ('time', 118),\n",
       " ('hour', 117),\n",
       " ('service', 95),\n",
       " ('food', 86),\n",
       " ('airport', 86),\n",
       " ('take', 77),\n",
       " ('delay', 76),\n",
       " ('fly', 75),\n",
       " ('bad', 75),\n",
       " ('would', 74),\n",
       " ('one', 73),\n",
       " ('tell', 72),\n",
       " ('passenger', 72),\n",
       " ('make', 71),\n",
       " ('plane', 70),\n",
       " ('gate', 69),\n",
       " ('airline', 67)]"
      ]
     },
     "execution_count": 67,
     "metadata": {},
     "output_type": "execute_result"
    }
   ],
   "source": [
    "# top 20 Freoquent token\n",
    "# dictionary.cfs : collection freq: total time appear in whole corpus\n",
    "# dictionary.dfs : document freq: total num of doc contain the term\n",
    "\n",
    "sorted_dict = sorted(dictionary.cfs.items(), key=lambda item: item[1], reverse = True)\n",
    "[(dictionary[tokenid], freq) for  (tokenid, freq) in sorted_dict][:20]"
   ]
  },
  {
   "cell_type": "markdown",
   "id": "7dcc0c96",
   "metadata": {},
   "source": [
    "# LDA Topic Modeling"
   ]
  },
  {
   "cell_type": "code",
   "execution_count": 68,
   "id": "92b89bda",
   "metadata": {
    "ExecuteTime": {
     "end_time": "2022-03-25T21:24:41.810482Z",
     "start_time": "2022-03-25T21:24:40.459289Z"
    }
   },
   "outputs": [],
   "source": [
    "from gensim.models import LdaMulticore, CoherenceModel\n",
    "#training the lda model\n",
    "lda_model = LdaMulticore(corpus = bow_corpus,\n",
    "                        id2word = dictionary,\n",
    "                        num_topics = 10,\n",
    "                        chunksize = 50,\n",
    "                        per_word_topics= True,\n",
    "                        passes = 10,\n",
    "                        workers = 1,\n",
    "                        eval_every = 1)"
   ]
  },
  {
   "cell_type": "code",
   "execution_count": 69,
   "id": "9ed547e4",
   "metadata": {
    "ExecuteTime": {
     "end_time": "2022-03-25T21:24:43.845391Z",
     "start_time": "2022-03-25T21:24:41.812368Z"
    },
    "scrolled": true
   },
   "outputs": [
    {
     "name": "stdout",
     "output_type": "stream",
     "text": [
      "\n",
      "Coherence Score:  0.3036741991408584\n",
      "\n",
      "Log-Likelihood :  -82658.37667679787\n",
      "\n",
      "Per-word Log-Likelihood :  -6.976026563007969\n",
      "\n",
      "Per-word Perplexity :  1070.6046164642976\n"
     ]
    }
   ],
   "source": [
    "# Evaluation metrics of the model\n",
    "\n",
    "from gensim.models import CoherenceModel\n",
    "coherence_model= CoherenceModel(model=lda_model, texts=lemmatized_corpus, dictionary=dictionary, coherence='c_v')\n",
    "\n",
    "\n",
    "print('\\nCoherence Score: ', coherence_model.get_coherence()),\\\n",
    "print('\\nLog-Likelihood : ', lda_model.bound(bow_corpus)),\\\n",
    "print('\\nPer-word Log-Likelihood : ', lda_model.log_perplexity(bow_corpus)),\\\n",
    "print('\\nPer-word Perplexity : ', np.exp(-1*lda_model.log_perplexity(bow_corpus)));"
   ]
  },
  {
   "cell_type": "code",
   "execution_count": 70,
   "id": "dc7acdaf",
   "metadata": {
    "ExecuteTime": {
     "end_time": "2022-03-25T21:24:43.860395Z",
     "start_time": "2022-03-25T21:24:43.846390Z"
    }
   },
   "outputs": [],
   "source": [
    "#functions to present the topic model\n",
    "\n",
    "def rank_by_weight(lda_model, ntop_topics = 10, ntop = 10):\n",
    "    topics_model = lda_model.show_topics(formatted=False, num_words = ntop)\n",
    "    topics_words= {}\n",
    "    topics_weight = {}\n",
    "\n",
    "    for (index, topic) in topics_model:\n",
    "        topics_words[f'Topic {index+1}'] = [word for (word,weight) in topic]\n",
    "        topics_weight[f'Topic {index+1}'] = sum([weight for (word,weight) in topic])\n",
    "        \n",
    "    ranking = {k: v for k, v in sorted(topics_weight.items(), key=lambda item: item[1],reverse=True)}\n",
    "    n_top_topics = ntop_topics\n",
    "    top_topics_dict ={}\n",
    "    for i in list(ranking.keys())[:n_top_topics]:\n",
    "        top_topics_dict[f'{i} ({topics_weight[i]:.3f})'] = topics_words[i]\n",
    "    return pd.DataFrame(top_topics_dict)\n",
    "\n",
    "def rank_by_coherence(lda_model, model_corpus, final_reviews,n_top, rank_by = 'c_v'):\n",
    "    #coherence = 'c_v, u_mass, c_npmi, c_uci'\n",
    "    top_topics_w_coherence = lda_model.top_topics(corpus = model_corpus, texts = final_reviews, topn=n_top , coherence = rank_by)\n",
    "    \n",
    "    top_topics_w_coherence_dict = {}\n",
    "    for (index, topic) in enumerate(top_topics_w_coherence):\n",
    "        top_topics_w_coherence_dict[f\"Topic {index+1} ({topic[1]:.2f})\"] = [word for (score, word) in topic[0]]\n",
    "    \n",
    "    return pd.DataFrame(top_topics_w_coherence_dict)\n",
    "\n",
    "def topics_rank(lda_model, model_corpus = None, final_reviews = None, rank_by = 'weight', ntop=10):\n",
    "    #rank_by = 'c_v, u_mass, c_npmi, c_uci, weight'\n",
    "    if rank_by == 'weight':\n",
    "        return rank_by_weight(lda_model, ntop=ntop)\n",
    "    else: return rank_by_coherence(lda_model, model_corpus, final_reviews, rank_by = rank_by, n_top=ntop)"
   ]
  },
  {
   "cell_type": "code",
   "execution_count": 71,
   "id": "a6609eb8",
   "metadata": {
    "ExecuteTime": {
     "end_time": "2022-03-25T21:24:43.875507Z",
     "start_time": "2022-03-25T21:24:43.861332Z"
    }
   },
   "outputs": [
    {
     "data": {
      "text/html": [
       "<div>\n",
       "<style scoped>\n",
       "    .dataframe tbody tr th:only-of-type {\n",
       "        vertical-align: middle;\n",
       "    }\n",
       "\n",
       "    .dataframe tbody tr th {\n",
       "        vertical-align: top;\n",
       "    }\n",
       "\n",
       "    .dataframe thead th {\n",
       "        text-align: right;\n",
       "    }\n",
       "</style>\n",
       "<table border=\"1\" class=\"dataframe\">\n",
       "  <thead>\n",
       "    <tr style=\"text-align: right;\">\n",
       "      <th></th>\n",
       "      <th>Topic 3 (0.239)</th>\n",
       "      <th>Topic 6 (0.197)</th>\n",
       "      <th>Topic 1 (0.197)</th>\n",
       "      <th>Topic 7 (0.170)</th>\n",
       "      <th>Topic 8 (0.165)</th>\n",
       "      <th>Topic 5 (0.164)</th>\n",
       "      <th>Topic 9 (0.159)</th>\n",
       "      <th>Topic 2 (0.146)</th>\n",
       "      <th>Topic 10 (0.142)</th>\n",
       "      <th>Topic 4 (0.118)</th>\n",
       "    </tr>\n",
       "  </thead>\n",
       "  <tbody>\n",
       "    <tr>\n",
       "      <th>0</th>\n",
       "      <td>seat</td>\n",
       "      <td>entertainment_system</td>\n",
       "      <td>serve</td>\n",
       "      <td>time</td>\n",
       "      <td>frankfurt</td>\n",
       "      <td>april</td>\n",
       "      <td>service</td>\n",
       "      <td>row</td>\n",
       "      <td>year</td>\n",
       "      <td>seat</td>\n",
       "    </tr>\n",
       "    <tr>\n",
       "      <th>1</th>\n",
       "      <td>business_class</td>\n",
       "      <td>cabin</td>\n",
       "      <td>quite</td>\n",
       "      <td>hour</td>\n",
       "      <td>arrive</td>\n",
       "      <td>passenger</td>\n",
       "      <td>poor</td>\n",
       "      <td>sit</td>\n",
       "      <td>frankfurt</td>\n",
       "      <td>would</td>\n",
       "    </tr>\n",
       "    <tr>\n",
       "      <th>2</th>\n",
       "      <td>crew</td>\n",
       "      <td>business</td>\n",
       "      <td>outbound</td>\n",
       "      <td>get</td>\n",
       "      <td>gate</td>\n",
       "      <td>frankfurt</td>\n",
       "      <td>one</td>\n",
       "      <td>get</td>\n",
       "      <td>less</td>\n",
       "      <td>hour</td>\n",
       "    </tr>\n",
       "    <tr>\n",
       "      <th>3</th>\n",
       "      <td>frankfurt</td>\n",
       "      <td>seat</td>\n",
       "      <td>small</td>\n",
       "      <td>fly</td>\n",
       "      <td>airport</td>\n",
       "      <td>time</td>\n",
       "      <td>food</td>\n",
       "      <td>staff</td>\n",
       "      <td>bag</td>\n",
       "      <td>try</td>\n",
       "    </tr>\n",
       "    <tr>\n",
       "      <th>4</th>\n",
       "      <td>system</td>\n",
       "      <td>take</td>\n",
       "      <td>one</td>\n",
       "      <td>seat</td>\n",
       "      <td>tell</td>\n",
       "      <td>small</td>\n",
       "      <td>seat</td>\n",
       "      <td>passenger</td>\n",
       "      <td>unfortunately</td>\n",
       "      <td>back</td>\n",
       "    </tr>\n",
       "    <tr>\n",
       "      <th>5</th>\n",
       "      <td>aircraft</td>\n",
       "      <td>wrong</td>\n",
       "      <td>flight_attendant</td>\n",
       "      <td>plane</td>\n",
       "      <td>get</td>\n",
       "      <td>food</td>\n",
       "      <td>customer</td>\n",
       "      <td>pay</td>\n",
       "      <td>chicago</td>\n",
       "      <td>check</td>\n",
       "    </tr>\n",
       "    <tr>\n",
       "      <th>6</th>\n",
       "      <td>dinner</td>\n",
       "      <td>long_haul</td>\n",
       "      <td>economy</td>\n",
       "      <td>take</td>\n",
       "      <td>delay</td>\n",
       "      <td>service</td>\n",
       "      <td>average</td>\n",
       "      <td>expect</td>\n",
       "      <td>plus</td>\n",
       "      <td>sleep</td>\n",
       "    </tr>\n",
       "    <tr>\n",
       "      <th>7</th>\n",
       "      <td>uncomfortable</td>\n",
       "      <td>tokyo</td>\n",
       "      <td>water</td>\n",
       "      <td>bad</td>\n",
       "      <td>ticket</td>\n",
       "      <td>leave</td>\n",
       "      <td>breakfast</td>\n",
       "      <td>part</td>\n",
       "      <td>lack</td>\n",
       "      <td>get</td>\n",
       "    </tr>\n",
       "    <tr>\n",
       "      <th>8</th>\n",
       "      <td>good</td>\n",
       "      <td>add</td>\n",
       "      <td>inbound</td>\n",
       "      <td>offer</td>\n",
       "      <td>hour</td>\n",
       "      <td>hard</td>\n",
       "      <td>much</td>\n",
       "      <td>time</td>\n",
       "      <td>use</td>\n",
       "      <td>airline</td>\n",
       "    </tr>\n",
       "    <tr>\n",
       "      <th>9</th>\n",
       "      <td>selection</td>\n",
       "      <td>window</td>\n",
       "      <td>snack</td>\n",
       "      <td>make</td>\n",
       "      <td>wait</td>\n",
       "      <td>however</td>\n",
       "      <td>get</td>\n",
       "      <td>last</td>\n",
       "      <td>service</td>\n",
       "      <td>business_class</td>\n",
       "    </tr>\n",
       "  </tbody>\n",
       "</table>\n",
       "</div>"
      ],
      "text/plain": [
       "  Topic 3 (0.239)       Topic 6 (0.197)   Topic 1 (0.197) Topic 7 (0.170)  \\\n",
       "0            seat  entertainment_system             serve            time   \n",
       "1  business_class                 cabin             quite            hour   \n",
       "2            crew              business          outbound             get   \n",
       "3       frankfurt                  seat             small             fly   \n",
       "4          system                  take               one            seat   \n",
       "5        aircraft                 wrong  flight_attendant           plane   \n",
       "6          dinner             long_haul           economy            take   \n",
       "7   uncomfortable                 tokyo             water             bad   \n",
       "8            good                   add           inbound           offer   \n",
       "9       selection                window             snack            make   \n",
       "\n",
       "  Topic 8 (0.165) Topic 5 (0.164) Topic 9 (0.159) Topic 2 (0.146)  \\\n",
       "0       frankfurt           april         service             row   \n",
       "1          arrive       passenger            poor             sit   \n",
       "2            gate       frankfurt             one             get   \n",
       "3         airport            time            food           staff   \n",
       "4            tell           small            seat       passenger   \n",
       "5             get            food        customer             pay   \n",
       "6           delay         service         average          expect   \n",
       "7          ticket           leave       breakfast            part   \n",
       "8            hour            hard            much            time   \n",
       "9            wait         however             get            last   \n",
       "\n",
       "  Topic 10 (0.142) Topic 4 (0.118)  \n",
       "0             year            seat  \n",
       "1        frankfurt           would  \n",
       "2             less            hour  \n",
       "3              bag             try  \n",
       "4    unfortunately            back  \n",
       "5          chicago           check  \n",
       "6             plus           sleep  \n",
       "7             lack             get  \n",
       "8              use         airline  \n",
       "9          service  business_class  "
      ]
     },
     "execution_count": 71,
     "metadata": {},
     "output_type": "execute_result"
    }
   ],
   "source": [
    "topics_rank(lda_model, bow_corpus, lemmatized_corpus, rank_by = 'weight')"
   ]
  },
  {
   "cell_type": "code",
   "execution_count": 72,
   "id": "02c86a5c",
   "metadata": {
    "ExecuteTime": {
     "end_time": "2022-03-25T21:24:45.591489Z",
     "start_time": "2022-03-25T21:24:43.876504Z"
    },
    "scrolled": true
   },
   "outputs": [
    {
     "data": {
      "text/html": [
       "<div>\n",
       "<style scoped>\n",
       "    .dataframe tbody tr th:only-of-type {\n",
       "        vertical-align: middle;\n",
       "    }\n",
       "\n",
       "    .dataframe tbody tr th {\n",
       "        vertical-align: top;\n",
       "    }\n",
       "\n",
       "    .dataframe thead th {\n",
       "        text-align: right;\n",
       "    }\n",
       "</style>\n",
       "<table border=\"1\" class=\"dataframe\">\n",
       "  <thead>\n",
       "    <tr style=\"text-align: right;\">\n",
       "      <th></th>\n",
       "      <th>Topic 1 (0.77)</th>\n",
       "      <th>Topic 2 (0.65)</th>\n",
       "      <th>Topic 3 (0.44)</th>\n",
       "      <th>Topic 4 (0.41)</th>\n",
       "      <th>Topic 5 (0.39)</th>\n",
       "      <th>Topic 6 (0.38)</th>\n",
       "      <th>Topic 7 (0.34)</th>\n",
       "      <th>Topic 8 (0.32)</th>\n",
       "      <th>Topic 9 (0.29)</th>\n",
       "      <th>Topic 10 (0.21)</th>\n",
       "    </tr>\n",
       "  </thead>\n",
       "  <tbody>\n",
       "    <tr>\n",
       "      <th>0</th>\n",
       "      <td>serve</td>\n",
       "      <td>frankfurt</td>\n",
       "      <td>service</td>\n",
       "      <td>time</td>\n",
       "      <td>entertainment_system</td>\n",
       "      <td>seat</td>\n",
       "      <td>seat</td>\n",
       "      <td>april</td>\n",
       "      <td>year</td>\n",
       "      <td>row</td>\n",
       "    </tr>\n",
       "    <tr>\n",
       "      <th>1</th>\n",
       "      <td>quite</td>\n",
       "      <td>arrive</td>\n",
       "      <td>poor</td>\n",
       "      <td>hour</td>\n",
       "      <td>cabin</td>\n",
       "      <td>business_class</td>\n",
       "      <td>would</td>\n",
       "      <td>passenger</td>\n",
       "      <td>frankfurt</td>\n",
       "      <td>sit</td>\n",
       "    </tr>\n",
       "    <tr>\n",
       "      <th>2</th>\n",
       "      <td>outbound</td>\n",
       "      <td>gate</td>\n",
       "      <td>one</td>\n",
       "      <td>get</td>\n",
       "      <td>business</td>\n",
       "      <td>crew</td>\n",
       "      <td>hour</td>\n",
       "      <td>frankfurt</td>\n",
       "      <td>less</td>\n",
       "      <td>get</td>\n",
       "    </tr>\n",
       "    <tr>\n",
       "      <th>3</th>\n",
       "      <td>small</td>\n",
       "      <td>airport</td>\n",
       "      <td>food</td>\n",
       "      <td>fly</td>\n",
       "      <td>seat</td>\n",
       "      <td>frankfurt</td>\n",
       "      <td>try</td>\n",
       "      <td>time</td>\n",
       "      <td>bag</td>\n",
       "      <td>staff</td>\n",
       "    </tr>\n",
       "    <tr>\n",
       "      <th>4</th>\n",
       "      <td>one</td>\n",
       "      <td>tell</td>\n",
       "      <td>seat</td>\n",
       "      <td>seat</td>\n",
       "      <td>take</td>\n",
       "      <td>system</td>\n",
       "      <td>back</td>\n",
       "      <td>small</td>\n",
       "      <td>unfortunately</td>\n",
       "      <td>passenger</td>\n",
       "    </tr>\n",
       "    <tr>\n",
       "      <th>5</th>\n",
       "      <td>flight_attendant</td>\n",
       "      <td>get</td>\n",
       "      <td>customer</td>\n",
       "      <td>plane</td>\n",
       "      <td>wrong</td>\n",
       "      <td>aircraft</td>\n",
       "      <td>check</td>\n",
       "      <td>food</td>\n",
       "      <td>chicago</td>\n",
       "      <td>pay</td>\n",
       "    </tr>\n",
       "    <tr>\n",
       "      <th>6</th>\n",
       "      <td>economy</td>\n",
       "      <td>delay</td>\n",
       "      <td>average</td>\n",
       "      <td>take</td>\n",
       "      <td>long_haul</td>\n",
       "      <td>dinner</td>\n",
       "      <td>sleep</td>\n",
       "      <td>service</td>\n",
       "      <td>plus</td>\n",
       "      <td>expect</td>\n",
       "    </tr>\n",
       "    <tr>\n",
       "      <th>7</th>\n",
       "      <td>water</td>\n",
       "      <td>ticket</td>\n",
       "      <td>breakfast</td>\n",
       "      <td>bad</td>\n",
       "      <td>tokyo</td>\n",
       "      <td>uncomfortable</td>\n",
       "      <td>get</td>\n",
       "      <td>leave</td>\n",
       "      <td>lack</td>\n",
       "      <td>part</td>\n",
       "    </tr>\n",
       "    <tr>\n",
       "      <th>8</th>\n",
       "      <td>inbound</td>\n",
       "      <td>hour</td>\n",
       "      <td>much</td>\n",
       "      <td>offer</td>\n",
       "      <td>add</td>\n",
       "      <td>good</td>\n",
       "      <td>airline</td>\n",
       "      <td>hard</td>\n",
       "      <td>use</td>\n",
       "      <td>time</td>\n",
       "    </tr>\n",
       "    <tr>\n",
       "      <th>9</th>\n",
       "      <td>snack</td>\n",
       "      <td>wait</td>\n",
       "      <td>get</td>\n",
       "      <td>make</td>\n",
       "      <td>window</td>\n",
       "      <td>selection</td>\n",
       "      <td>business_class</td>\n",
       "      <td>however</td>\n",
       "      <td>service</td>\n",
       "      <td>last</td>\n",
       "    </tr>\n",
       "  </tbody>\n",
       "</table>\n",
       "</div>"
      ],
      "text/plain": [
       "     Topic 1 (0.77) Topic 2 (0.65) Topic 3 (0.44) Topic 4 (0.41)  \\\n",
       "0             serve      frankfurt        service           time   \n",
       "1             quite         arrive           poor           hour   \n",
       "2          outbound           gate            one            get   \n",
       "3             small        airport           food            fly   \n",
       "4               one           tell           seat           seat   \n",
       "5  flight_attendant            get       customer          plane   \n",
       "6           economy          delay        average           take   \n",
       "7             water         ticket      breakfast            bad   \n",
       "8           inbound           hour           much          offer   \n",
       "9             snack           wait            get           make   \n",
       "\n",
       "         Topic 5 (0.39)  Topic 6 (0.38)  Topic 7 (0.34) Topic 8 (0.32)  \\\n",
       "0  entertainment_system            seat            seat          april   \n",
       "1                 cabin  business_class           would      passenger   \n",
       "2              business            crew            hour      frankfurt   \n",
       "3                  seat       frankfurt             try           time   \n",
       "4                  take          system            back          small   \n",
       "5                 wrong        aircraft           check           food   \n",
       "6             long_haul          dinner           sleep        service   \n",
       "7                 tokyo   uncomfortable             get          leave   \n",
       "8                   add            good         airline           hard   \n",
       "9                window       selection  business_class        however   \n",
       "\n",
       "  Topic 9 (0.29) Topic 10 (0.21)  \n",
       "0           year             row  \n",
       "1      frankfurt             sit  \n",
       "2           less             get  \n",
       "3            bag           staff  \n",
       "4  unfortunately       passenger  \n",
       "5        chicago             pay  \n",
       "6           plus          expect  \n",
       "7           lack            part  \n",
       "8            use            time  \n",
       "9        service            last  "
      ]
     },
     "execution_count": 72,
     "metadata": {},
     "output_type": "execute_result"
    }
   ],
   "source": [
    "topics_rank(lda_model, bow_corpus, lemmatized_corpus, rank_by = 'c_v')"
   ]
  },
  {
   "cell_type": "markdown",
   "id": "3dd6d966",
   "metadata": {},
   "source": [
    "# LDA model Optimization"
   ]
  },
  {
   "cell_type": "code",
   "execution_count": 73,
   "id": "6d283779",
   "metadata": {
    "ExecuteTime": {
     "end_time": "2022-03-25T21:24:45.607692Z",
     "start_time": "2022-03-25T21:24:45.592432Z"
    }
   },
   "outputs": [],
   "source": [
    "def best_model(lemmatized_corpus, bow_corpus, dictionary, n_topics_range = [2, 4, 8, 16, 30 ,60]):\n",
    "    \"\"\"\n",
    "    Compute c_v coherence for various number of topics\n",
    "\n",
    "    Parameters:\n",
    "    ----------\n",
    "    dictionary : id2word dict\n",
    "    bow_corpus : bag-of-word corpus\n",
    "    limit : Max num of topics\n",
    "\n",
    "    Returns:\n",
    "    -------\n",
    "    best_model : best LDA model\n",
    "    \n",
    "    \"\"\"\n",
    "    \n",
    "    coherence = []\n",
    "    perplexity = []\n",
    "    log_likelihood = []\n",
    "    model_list = []\n",
    "    for n_topics in n_topics_range:\n",
    "        model = LdaMulticore(corpus = bow_corpus,\n",
    "                        id2word = dictionary,\n",
    "                        chunksize = 50,\n",
    "                        num_topics = n_topics,\n",
    "                        per_word_topics= True,\n",
    "                        passes = 10,\n",
    "                        workers = 1)\n",
    "        model_list.append(model)\n",
    "        coherencemodel = CoherenceModel(model=model, texts=lemmatized_corpus, dictionary=dictionary, coherence='c_v')\n",
    "        coherence.append(coherencemodel.get_coherence())\n",
    "        perplexity.append(np.exp(-1*model.log_perplexity(bow_corpus)))\n",
    "        log_likelihood.append(model.bound(bow_corpus))\n",
    "        \n",
    "        print(f'{100*(n_topics_range.index(n_topics)+1)/len(n_topics_range):.1f} %')\n",
    "        \n",
    "    best_model = model_list[coherence.index(max(coherence))]\n",
    "    \n",
    "    plt.plot(n_topics_range, coherence)\n",
    "    plt.xlabel(\"Num Topics\")\n",
    "    plt.ylabel(\"Coherence score\")\n",
    "    plt.show()\n",
    "    \n",
    "    plt.plot(n_topics_range, perplexity)\n",
    "    plt.xlabel(\"Num Topics\")\n",
    "    plt.ylabel(\"Model Preplexity\")\n",
    "    plt.show()\n",
    "    \n",
    "    plt.plot(n_topics_range, log_likelihood)\n",
    "    plt.xlabel(\"Num Topics\")\n",
    "    plt.ylabel(\"Model Log-Likelihood\")\n",
    "    plt.show()\n",
    "    \n",
    "    \n",
    "    return best_model, max(coherence)"
   ]
  },
  {
   "cell_type": "code",
   "execution_count": 74,
   "id": "0a88ba5f",
   "metadata": {
    "ExecuteTime": {
     "end_time": "2022-03-25T21:25:17.960714Z",
     "start_time": "2022-03-25T21:24:45.608853Z"
    }
   },
   "outputs": [
    {
     "name": "stdout",
     "output_type": "stream",
     "text": [
      "16.7 %\n",
      "33.3 %\n",
      "50.0 %\n",
      "66.7 %\n",
      "83.3 %\n",
      "100.0 %\n"
     ]
    },
    {
     "data": {
      "image/png": "[encoded data removed]",
      "text/plain": [
       "<Figure size 432x288 with 1 Axes>"
      ]
     },
     "metadata": {
      "needs_background": "light"
     },
     "output_type": "display_data"
    },
    {
     "data": {
      "image/png": "[encoded data removed]",
      "text/plain": [
       "<Figure size 432x288 with 1 Axes>"
      ]
     },
     "metadata": {
      "needs_background": "light"
     },
     "output_type": "display_data"
    },
    {
     "data": {
      "image/png": "[encoded data removed]",
      "text/plain": [
       "<Figure size 432x288 with 1 Axes>"
      ]
     },
     "metadata": {
      "needs_background": "light"
     },
     "output_type": "display_data"
    }
   ],
   "source": [
    "optimized_model, best_coherence = best_model(lemmatized_corpus, \n",
    "                                             bow_corpus, dictionary, \n",
    "                                             n_topics_range = [2, 5, 10, 20, 50, 100])"
   ]
  },
  {
   "cell_type": "code",
   "execution_count": 75,
   "id": "ddb257d9",
   "metadata": {
    "ExecuteTime": {
     "end_time": "2022-03-25T21:25:17.975684Z",
     "start_time": "2022-03-25T21:25:17.961705Z"
    }
   },
   "outputs": [
    {
     "data": {
      "text/plain": [
       "0.38229758961299415"
      ]
     },
     "execution_count": 75,
     "metadata": {},
     "output_type": "execute_result"
    }
   ],
   "source": [
    "best_coherence"
   ]
  }
 ],
 "metadata": {
  "kernelspec": {
   "display_name": "Python 3 (ipykernel)",
   "language": "python",
   "name": "python3"
  },
  "language_info": {
   "codemirror_mode": {
    "name": "ipython",
    "version": 3
   },
   "file_extension": ".py",
   "mimetype": "text/x-python",
   "name": "python",
   "nbconvert_exporter": "python",
   "pygments_lexer": "ipython3",
   "version": "3.8.10"
  }
 },
 "nbformat": 4,
 "nbformat_minor": 5
}
